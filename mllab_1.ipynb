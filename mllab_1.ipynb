{
  "nbformat": 4,
  "nbformat_minor": 0,
  "metadata": {
    "colab": {
      "provenance": []
    },
    "kernelspec": {
      "name": "python3",
      "display_name": "Python 3"
    },
    "language_info": {
      "name": "python"
    }
  },
  "cells": [
    {
      "cell_type": "code",
      "execution_count": 1,
      "metadata": {
        "colab": {
          "base_uri": "https://localhost:8080/"
        },
        "id": "ajHOsM50cwaT",
        "outputId": "e609b89f-d658-42c4-dcd4-6cfe583e0e3d"
      },
      "outputs": [
        {
          "output_type": "stream",
          "name": "stdout",
          "text": [
            "no of pairs= 2\n"
          ]
        }
      ],
      "source": [
        "list=[2,7,4,3,6]\n",
        "c=0\n",
        "for i in range(len(list)):\n",
        "    for j in range(i+1,len(list)):\n",
        "        if list[i]+list[j]==10:\n",
        "            c=c+1\n",
        "print(\"no of pairs=\",c)"
      ]
    },
    {
      "cell_type": "code",
      "source": [
        "list=[]\n",
        "x=int(input(\"enter no of numbers \"))\n",
        "if x<3:\n",
        "    print(\"Range determination not possible\")\n",
        "else:\n",
        "    for n in range(0,x):\n",
        "        n=int(input())\n",
        "        list.append(int(n))\n",
        "    list.sort()\n",
        "\n",
        "    print(list)\n",
        "    print(\"Range is\",list[x-1]-list[0])"
      ],
      "metadata": {
        "colab": {
          "base_uri": "https://localhost:8080/"
        },
        "id": "rjjuJS3mc3TG",
        "outputId": "19070608-609e-47e0-8a90-aaeea671a149"
      },
      "execution_count": 3,
      "outputs": [
        {
          "output_type": "stream",
          "name": "stdout",
          "text": [
            "enter no of numbers 5\n",
            "2\n",
            "9\n",
            "4\n",
            "6\n",
            "8\n",
            "[2, 4, 6, 8, 9]\n",
            "Range is 7\n"
          ]
        }
      ]
    },
    {
      "cell_type": "code",
      "source": [
        "def matrix_mult(A, B):\n",
        "        n = len(A)\n",
        "        result = []\n",
        "        for i in range(n):\n",
        "            row = []\n",
        "            for j in range(n):\n",
        "                sum = 0\n",
        "                for k in range(n):\n",
        "                    sum += A[i][k] * B[k][j]\n",
        "                row.append(sum)\n",
        "            result.append(row)\n",
        "        return result\n",
        "def identity_matrix(n):\n",
        "        I = []\n",
        "        for i in range(n):\n",
        "            row = []\n",
        "            for j in range(n):\n",
        "                if i == j:\n",
        "                    row.append(1)\n",
        "                else:\n",
        "                    row.append(0)\n",
        "            I.append(row)\n",
        "        return I\n",
        "\n",
        "def power(A, m):\n",
        "        n = len(A)\n",
        "        if m == 0:\n",
        "            return identity_matrix(n)\n",
        "\n",
        "        result = A\n",
        "        for _ in range(m - 1):\n",
        "            result = matrix_mult(result, A)\n",
        "\n",
        "        return result\n",
        "print(\"enter no.of rows of matrix\")\n",
        "A=int(input())\n",
        "B=int(input(\"enter no.of columns of matrix\\n\"))\n",
        "M=[]\n",
        "ele=0\n",
        "for i in range(A):\n",
        "    r=[]\n",
        "    for j in range(B):\n",
        "        ele=int(input(\"enter element of matrix:\"))\n",
        "        r.append(ele)\n",
        "    M.append(r)\n",
        "m=int(input(\"enter m:\"))\n",
        "result=power(M,m)\n",
        "print(result)"
      ],
      "metadata": {
        "colab": {
          "base_uri": "https://localhost:8080/"
        },
        "id": "JIDgc51VdBW6",
        "outputId": "8fae22a1-cfbe-423e-ec17-db60d6df3185"
      },
      "execution_count": 7,
      "outputs": [
        {
          "output_type": "stream",
          "name": "stdout",
          "text": [
            "enter no.of rows of matrix\n",
            "3\n",
            "enter no.of columns of matrix\n",
            "3\n",
            "enter element of matrix:1\n",
            "enter element of matrix:2\n",
            "enter element of matrix:3\n",
            "enter element of matrix:4\n",
            "enter element of matrix:5\n",
            "enter element of matrix:6\n",
            "enter element of matrix:7\n",
            "enter element of matrix:8\n",
            "enter element of matrix:9\n",
            "enter m:2\n",
            "[[30, 36, 42], [66, 81, 96], [102, 126, 150]]\n"
          ]
        }
      ]
    },
    {
      "cell_type": "code",
      "source": [
        "string = input(\"enter a string \")\n",
        "count = {}\n",
        "for char in string:\n",
        "    if char.isalpha():\n",
        "        count[char] = count.get(char, 0) + 1\n",
        "\n",
        "max_count = 0\n",
        "max_char = None\n",
        "for char, count in count.items():\n",
        "    if count > max_count:\n",
        "        max_count = count\n",
        "        max_char = char\n",
        "print(\"The maximally occurring character is\",max_char,\"& occurrence count is\",max_count)"
      ],
      "metadata": {
        "colab": {
          "base_uri": "https://localhost:8080/"
        },
        "id": "fAw_zTP5elAb",
        "outputId": "56fe2c7e-dd31-4894-a961-72da974caba7"
      },
      "execution_count": 9,
      "outputs": [
        {
          "output_type": "stream",
          "name": "stdout",
          "text": [
            "enter a string hippopotamus\n",
            "The maximally occurring character is p & occurrence count is 3\n"
          ]
        }
      ]
    }
  ]
}